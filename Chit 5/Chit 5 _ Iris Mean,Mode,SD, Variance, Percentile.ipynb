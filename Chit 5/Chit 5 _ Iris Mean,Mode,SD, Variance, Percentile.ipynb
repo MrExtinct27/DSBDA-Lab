{
 "cells": [
  {
   "cell_type": "code",
   "execution_count": 27,
   "metadata": {},
   "outputs": [],
   "source": [
    "import pandas as pd\n",
    "import numpy as np\n",
    "import math\n",
    "import statistics\n",
    "import scipy.stats\n",
    "import seaborn as sns"
   ]
  },
  {
   "cell_type": "code",
   "execution_count": 28,
   "metadata": {},
   "outputs": [
    {
     "data": {
      "text/html": [
       "<div>\n",
       "<style scoped>\n",
       "    .dataframe tbody tr th:only-of-type {\n",
       "        vertical-align: middle;\n",
       "    }\n",
       "\n",
       "    .dataframe tbody tr th {\n",
       "        vertical-align: top;\n",
       "    }\n",
       "\n",
       "    .dataframe thead th {\n",
       "        text-align: right;\n",
       "    }\n",
       "</style>\n",
       "<table border=\"1\" class=\"dataframe\">\n",
       "  <thead>\n",
       "    <tr style=\"text-align: right;\">\n",
       "      <th></th>\n",
       "      <th>sepal.length</th>\n",
       "      <th>sepal.width</th>\n",
       "      <th>petal.length</th>\n",
       "      <th>petal.width</th>\n",
       "      <th>variety</th>\n",
       "    </tr>\n",
       "  </thead>\n",
       "  <tbody>\n",
       "    <tr>\n",
       "      <th>0</th>\n",
       "      <td>5.1</td>\n",
       "      <td>3.5</td>\n",
       "      <td>1.4</td>\n",
       "      <td>0.2</td>\n",
       "      <td>Setosa</td>\n",
       "    </tr>\n",
       "    <tr>\n",
       "      <th>1</th>\n",
       "      <td>4.9</td>\n",
       "      <td>3.0</td>\n",
       "      <td>1.4</td>\n",
       "      <td>0.2</td>\n",
       "      <td>Setosa</td>\n",
       "    </tr>\n",
       "    <tr>\n",
       "      <th>2</th>\n",
       "      <td>4.7</td>\n",
       "      <td>3.2</td>\n",
       "      <td>1.3</td>\n",
       "      <td>0.2</td>\n",
       "      <td>Setosa</td>\n",
       "    </tr>\n",
       "    <tr>\n",
       "      <th>3</th>\n",
       "      <td>4.6</td>\n",
       "      <td>3.1</td>\n",
       "      <td>1.5</td>\n",
       "      <td>0.2</td>\n",
       "      <td>Setosa</td>\n",
       "    </tr>\n",
       "    <tr>\n",
       "      <th>4</th>\n",
       "      <td>5.0</td>\n",
       "      <td>3.6</td>\n",
       "      <td>1.4</td>\n",
       "      <td>0.2</td>\n",
       "      <td>Setosa</td>\n",
       "    </tr>\n",
       "    <tr>\n",
       "      <th>...</th>\n",
       "      <td>...</td>\n",
       "      <td>...</td>\n",
       "      <td>...</td>\n",
       "      <td>...</td>\n",
       "      <td>...</td>\n",
       "    </tr>\n",
       "    <tr>\n",
       "      <th>145</th>\n",
       "      <td>6.7</td>\n",
       "      <td>3.0</td>\n",
       "      <td>5.2</td>\n",
       "      <td>2.3</td>\n",
       "      <td>Virginica</td>\n",
       "    </tr>\n",
       "    <tr>\n",
       "      <th>146</th>\n",
       "      <td>6.3</td>\n",
       "      <td>2.5</td>\n",
       "      <td>5.0</td>\n",
       "      <td>1.9</td>\n",
       "      <td>Virginica</td>\n",
       "    </tr>\n",
       "    <tr>\n",
       "      <th>147</th>\n",
       "      <td>6.5</td>\n",
       "      <td>3.0</td>\n",
       "      <td>5.2</td>\n",
       "      <td>2.0</td>\n",
       "      <td>Virginica</td>\n",
       "    </tr>\n",
       "    <tr>\n",
       "      <th>148</th>\n",
       "      <td>6.2</td>\n",
       "      <td>3.4</td>\n",
       "      <td>5.4</td>\n",
       "      <td>2.3</td>\n",
       "      <td>Virginica</td>\n",
       "    </tr>\n",
       "    <tr>\n",
       "      <th>149</th>\n",
       "      <td>5.9</td>\n",
       "      <td>3.0</td>\n",
       "      <td>5.1</td>\n",
       "      <td>1.8</td>\n",
       "      <td>Virginica</td>\n",
       "    </tr>\n",
       "  </tbody>\n",
       "</table>\n",
       "<p>150 rows × 5 columns</p>\n",
       "</div>"
      ],
      "text/plain": [
       "     sepal.length  sepal.width  petal.length  petal.width    variety\n",
       "0             5.1          3.5           1.4          0.2     Setosa\n",
       "1             4.9          3.0           1.4          0.2     Setosa\n",
       "2             4.7          3.2           1.3          0.2     Setosa\n",
       "3             4.6          3.1           1.5          0.2     Setosa\n",
       "4             5.0          3.6           1.4          0.2     Setosa\n",
       "..            ...          ...           ...          ...        ...\n",
       "145           6.7          3.0           5.2          2.3  Virginica\n",
       "146           6.3          2.5           5.0          1.9  Virginica\n",
       "147           6.5          3.0           5.2          2.0  Virginica\n",
       "148           6.2          3.4           5.4          2.3  Virginica\n",
       "149           5.9          3.0           5.1          1.8  Virginica\n",
       "\n",
       "[150 rows x 5 columns]"
      ]
     },
     "execution_count": 28,
     "metadata": {},
     "output_type": "execute_result"
    }
   ],
   "source": [
    "df=pd.read_csv(\"/Users/yashmahajan/Desktop/DSBDA Lab/Datasets/DSBDAL-Exam-datasets/5-8-13-14.iris.csv\")\n",
    "df"
   ]
  },
  {
   "cell_type": "code",
   "execution_count": 29,
   "metadata": {},
   "outputs": [
    {
     "data": {
      "text/plain": [
       "array(['Setosa', 'Versicolor', 'Virginica'], dtype=object)"
      ]
     },
     "execution_count": 29,
     "metadata": {},
     "output_type": "execute_result"
    }
   ],
   "source": [
    "df['variety'].unique()"
   ]
  },
  {
   "cell_type": "code",
   "execution_count": 30,
   "metadata": {},
   "outputs": [],
   "source": [
    "setosa=df[df['variety']=='Setosa']\n",
    "# setosa=setosa.drop(['Id'],axis=1)\n",
    "\n",
    "virginica=df[df['variety']=='Virginica']\n",
    "# virginica=virginica.drop(['Id'],axis=1)\n",
    "\n",
    "versicolor=df[df['variety']=='Versicolor']\n",
    "# versicolor=versicolor.drop(['Id'],axis=1)\n"
   ]
  },
  {
   "cell_type": "markdown",
   "metadata": {},
   "source": [
    "# Mean"
   ]
  },
  {
   "cell_type": "code",
   "execution_count": 31,
   "metadata": {},
   "outputs": [
    {
     "name": "stdout",
     "output_type": "stream",
     "text": [
      "SETOSA\n",
      " sepal.length    5.006\n",
      "sepal.width     3.428\n",
      "petal.length    1.462\n",
      "petal.width     0.246\n",
      "dtype: float64\n",
      "\n",
      "VIRGINICA\n",
      " sepal.length    6.588\n",
      "sepal.width     2.974\n",
      "petal.length    5.552\n",
      "petal.width     2.026\n",
      "dtype: float64\n",
      "\n",
      "VERSICOLOR\n",
      " sepal.length    5.936\n",
      "sepal.width     2.770\n",
      "petal.length    4.260\n",
      "petal.width     1.326\n",
      "dtype: float64\n"
     ]
    }
   ],
   "source": [
    "#Calculating Mean for each species\n",
    "setosa_mean=setosa.mean(numeric_only=True)\n",
    "print(\"SETOSA Mean\\n\",setosa_mean)\n",
    "\n",
    "virginica_mean=virginica.mean(numeric_only=True)\n",
    "print(\"\\nVIRGINICA Mean\\n\",virginica_mean)\n",
    "\n",
    "versicolor_mean=versicolor.mean(numeric_only=True)\n",
    "print(\"\\nVERSICOLOR Mean\\n\",versicolor_mean)\n"
   ]
  },
  {
   "cell_type": "markdown",
   "metadata": {},
   "source": [
    "# Median"
   ]
  },
  {
   "cell_type": "code",
   "execution_count": 32,
   "metadata": {},
   "outputs": [
    {
     "name": "stdout",
     "output_type": "stream",
     "text": [
      "SETOSA\n",
      " sepal.length    5.0\n",
      "sepal.width     3.4\n",
      "petal.length    1.5\n",
      "petal.width     0.2\n",
      "dtype: float64\n",
      "\n",
      "VIRGINICA\n",
      " sepal.length    6.50\n",
      "sepal.width     3.00\n",
      "petal.length    5.55\n",
      "petal.width     2.00\n",
      "dtype: float64\n",
      "\n",
      "VERSICOLOR\n",
      " sepal.length    5.90\n",
      "sepal.width     2.80\n",
      "petal.length    4.35\n",
      "petal.width     1.30\n",
      "dtype: float64\n"
     ]
    }
   ],
   "source": [
    "#Calculating Median for each species\n",
    "setosa_median=setosa.median(numeric_only=True)\n",
    "print(\"SETOSA Median\\n\",setosa_median)\n",
    "\n",
    "virginica_median=virginica.median(numeric_only=True)\n",
    "print(\"\\nVIRGINICA Median\\n\",virginica_median)\n",
    "\n",
    "versicolor_median=versicolor.median(numeric_only=True)\n",
    "print(\"\\nVERSICOLOR Median\\n\",versicolor_median)\n"
   ]
  },
  {
   "cell_type": "markdown",
   "metadata": {},
   "source": [
    "# Mode"
   ]
  },
  {
   "cell_type": "code",
   "execution_count": 33,
   "metadata": {},
   "outputs": [
    {
     "name": "stdout",
     "output_type": "stream",
     "text": [
      "SETOSA\n",
      "    sepal.length  sepal.width  petal.length  petal.width\n",
      "0           5.0          3.4           1.4          0.2\n",
      "1           5.1          NaN           1.5          NaN\n",
      "\n",
      "VIRGINICA\n",
      "    sepal.length  sepal.width  petal.length  petal.width\n",
      "0           6.3          3.0           5.1          1.8\n",
      "\n",
      "VERSICOLOR\n",
      "    sepal.length  sepal.width  petal.length  petal.width\n",
      "0           5.5          3.0           4.5          1.3\n",
      "1           5.6          NaN           NaN          NaN\n",
      "2           5.7          NaN           NaN          NaN\n"
     ]
    }
   ],
   "source": [
    "#Calculating Mode for each species\n",
    "setosa_mode=setosa.mode(numeric_only=True)\n",
    "print(\"SETOSA Mode\\n\",setosa_mode)\n",
    "\n",
    "virginica_mode=virginica.mode(numeric_only=True)\n",
    "print(\"\\nVIRGINICA Mode\\n\",virginica_mode)\n",
    "\n",
    "versicolor_mode=versicolor.mode(numeric_only=True)\n",
    "print(\"\\nVERSICOLOR Mode\\n\",versicolor_mode)"
   ]
  },
  {
   "cell_type": "markdown",
   "metadata": {},
   "source": [
    "# Standard Deviation"
   ]
  },
  {
   "cell_type": "code",
   "execution_count": 34,
   "metadata": {},
   "outputs": [
    {
     "name": "stdout",
     "output_type": "stream",
     "text": [
      "SETOSA\n",
      " sepal.length    0.352490\n",
      "sepal.width     0.379064\n",
      "petal.length    0.173664\n",
      "petal.width     0.105386\n",
      "dtype: float64\n",
      "\n",
      "VIRGINICA\n",
      " sepal.length    0.635880\n",
      "sepal.width     0.322497\n",
      "petal.length    0.551895\n",
      "petal.width     0.274650\n",
      "dtype: float64\n",
      "\n",
      "VERSICOLOR\n",
      " sepal.length    0.516171\n",
      "sepal.width     0.313798\n",
      "petal.length    0.469911\n",
      "petal.width     0.197753\n",
      "dtype: float64\n"
     ]
    }
   ],
   "source": [
    "#Calculating Standard Deviation for each species\n",
    "setosa_std=setosa.std(numeric_only=True)\n",
    "print(\"SETOSA Standard Deviation\\n\",setosa_std)\n",
    "\n",
    "virginica_std=virginica.std(numeric_only=True)\n",
    "print(\"\\nVIRGINICA Standard Deviation\\n\",virginica_std)\n",
    "\n",
    "versicolor_std=versicolor.std(numeric_only=True)\n",
    "print(\"\\nVERSICOLOR Standard Deviation\\n\",versicolor_std)\n"
   ]
  },
  {
   "cell_type": "markdown",
   "metadata": {},
   "source": [
    "# Variance"
   ]
  },
  {
   "cell_type": "code",
   "execution_count": 35,
   "metadata": {},
   "outputs": [
    {
     "name": "stdout",
     "output_type": "stream",
     "text": [
      "SETOSA\n",
      " sepal.length    0.124249\n",
      "sepal.width     0.143690\n",
      "petal.length    0.030159\n",
      "petal.width     0.011106\n",
      "dtype: float64\n",
      "\n",
      "VIRGINICA\n",
      " sepal.length    0.404343\n",
      "sepal.width     0.104004\n",
      "petal.length    0.304588\n",
      "petal.width     0.075433\n",
      "dtype: float64\n",
      "\n",
      "VERSICOLOR\n",
      " sepal.length    0.266433\n",
      "sepal.width     0.098469\n",
      "petal.length    0.220816\n",
      "petal.width     0.039106\n",
      "dtype: float64\n"
     ]
    }
   ],
   "source": [
    "#Calculating Variance for each species\n",
    "setosa_variance=setosa.var(numeric_only=True)\n",
    "print(\"SETOSA Variance\\n\",setosa_variance)\n",
    "\n",
    "virginica_variance=virginica.var(numeric_only=True)\n",
    "print(\"\\nVIRGINICA Variance\\n\",virginica_variance)\n",
    "\n",
    "versicolor_variance=versicolor.var(numeric_only=True)\n",
    "print(\"\\nVERSICOLOR Variance\\n\",versicolor_variance)\n"
   ]
  },
  {
   "cell_type": "markdown",
   "metadata": {},
   "source": [
    "# PERCENTILE"
   ]
  },
  {
   "cell_type": "code",
   "execution_count": 47,
   "metadata": {},
   "outputs": [
    {
     "name": "stdout",
     "output_type": "stream",
     "text": [
      "SETOSA Percentile\n",
      " sepal.length    5.8\n",
      "sepal.width     4.4\n",
      "petal.length    1.9\n",
      "petal.width     0.6\n",
      "Name: 1.0, dtype: float64\n",
      "VIRGINICA Percentile\n",
      " sepal.length    7.9\n",
      "sepal.width     3.8\n",
      "petal.length    6.9\n",
      "petal.width     2.5\n",
      "Name: 1.0, dtype: float64\n",
      "VERSICOLOR Percentile\n",
      " sepal.length    7.0\n",
      "sepal.width     3.4\n",
      "petal.length    5.1\n",
      "petal.width     1.8\n",
      "Name: 1.0, dtype: float64\n"
     ]
    }
   ],
   "source": [
    "setosa_percentile=setosa.quantile(1,numeric_only=True)\n",
    "print(\"SETOSA Percentile\\n\",setosa_percentile)\n",
    "\n",
    "virginica_percentile=virginica.quantile(1,numeric_only=True)\n",
    "print(\"VIRGINICA Percentile\\n\",virginica_percentile)\n",
    "\n",
    "versicolor_percentile=versicolor.quantile(1,numeric_only=True)\n",
    "print(\"VERSICOLOR Percentile\\n\",versicolor_percentile)"
   ]
  },
  {
   "cell_type": "code",
   "execution_count": 36,
   "metadata": {},
   "outputs": [
    {
     "data": {
      "text/html": [
       "<div>\n",
       "<style scoped>\n",
       "    .dataframe tbody tr th:only-of-type {\n",
       "        vertical-align: middle;\n",
       "    }\n",
       "\n",
       "    .dataframe tbody tr th {\n",
       "        vertical-align: top;\n",
       "    }\n",
       "\n",
       "    .dataframe thead th {\n",
       "        text-align: right;\n",
       "    }\n",
       "</style>\n",
       "<table border=\"1\" class=\"dataframe\">\n",
       "  <thead>\n",
       "    <tr style=\"text-align: right;\">\n",
       "      <th></th>\n",
       "      <th>sepal.length</th>\n",
       "      <th>sepal.width</th>\n",
       "      <th>petal.length</th>\n",
       "      <th>petal.width</th>\n",
       "    </tr>\n",
       "  </thead>\n",
       "  <tbody>\n",
       "    <tr>\n",
       "      <th>sepal.length</th>\n",
       "      <td>1.00</td>\n",
       "      <td>-0.12</td>\n",
       "      <td>0.87</td>\n",
       "      <td>0.82</td>\n",
       "    </tr>\n",
       "    <tr>\n",
       "      <th>sepal.width</th>\n",
       "      <td>-0.12</td>\n",
       "      <td>1.00</td>\n",
       "      <td>-0.43</td>\n",
       "      <td>-0.37</td>\n",
       "    </tr>\n",
       "    <tr>\n",
       "      <th>petal.length</th>\n",
       "      <td>0.87</td>\n",
       "      <td>-0.43</td>\n",
       "      <td>1.00</td>\n",
       "      <td>0.96</td>\n",
       "    </tr>\n",
       "    <tr>\n",
       "      <th>petal.width</th>\n",
       "      <td>0.82</td>\n",
       "      <td>-0.37</td>\n",
       "      <td>0.96</td>\n",
       "      <td>1.00</td>\n",
       "    </tr>\n",
       "  </tbody>\n",
       "</table>\n",
       "</div>"
      ],
      "text/plain": [
       "              sepal.length  sepal.width  petal.length  petal.width\n",
       "sepal.length          1.00        -0.12          0.87         0.82\n",
       "sepal.width          -0.12         1.00         -0.43        -0.37\n",
       "petal.length          0.87        -0.43          1.00         0.96\n",
       "petal.width           0.82        -0.37          0.96         1.00"
      ]
     },
     "execution_count": 36,
     "metadata": {},
     "output_type": "execute_result"
    }
   ],
   "source": [
    "# df1=df.drop(['Id'],axis=1)\n",
    "correlation = df.corr() \n",
    "round(correlation,2)"
   ]
  },
  {
   "cell_type": "code",
   "execution_count": 37,
   "metadata": {},
   "outputs": [
    {
     "data": {
      "text/plain": [
       "<AxesSubplot:>"
      ]
     },
     "execution_count": 37,
     "metadata": {},
     "output_type": "execute_result"
    },
    {
     "data": {
      "image/png": "[encoded data removed]",
      "text/plain": [
       "<Figure size 640x480 with 2 Axes>"
      ]
     },
     "metadata": {},
     "output_type": "display_data"
    }
   ],
   "source": [
    "sns.heatmap(correlation)"
   ]
  },
  {
   "cell_type": "code",
   "execution_count": null,
   "metadata": {},
   "outputs": [],
   "source": []
  }
 ],
 "metadata": {
  "kernelspec": {
   "display_name": "Python 3 (ipykernel)",
   "language": "python",
   "name": "python3"
  },
  "language_info": {
   "codemirror_mode": {
    "name": "ipython",
    "version": 3
   },
   "file_extension": ".py",
   "mimetype": "text/x-python",
   "name": "python",
   "nbconvert_exporter": "python",
   "pygments_lexer": "ipython3",
   "version": "3.9.13"
  },
  "vscode": {
   "interpreter": {
    "hash": "a42ccb73e7d9bfdf27e036f1d2b8b681e55fc0743cc5586bc2474d4a60f4b886"
   }
  }
 },
 "nbformat": 4,
 "nbformat_minor": 2
}
